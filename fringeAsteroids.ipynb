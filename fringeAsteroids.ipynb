{
 "cells": [
  {
   "cell_type": "markdown",
   "metadata": {
    "collapsed": true
   },
   "source": [
    "Find large main-belt asteroids suitable for MRS fringe characterization.  <br />\n",
    "This notebook modified after 'centaurs2019.ipynb' used for GTO planning."
   ]
  },
  {
   "cell_type": "markdown",
   "metadata": {},
   "source": [
    "M.Mueller@astro.rug.nl, 2021/09/27+"
   ]
  },
  {
   "cell_type": "markdown",
   "metadata": {},
   "source": [
    "Find large MBAs observable with JWST during early routine science. \n",
    "\n",
    "User input: <br>\n",
    "* Diameter range to be searched <br>\n",
    "* minimum acceptable galactic latitude (reject asteroids while in Milky Way) <br>\n",
    "* date range <br>\n",
    "\n",
    "Step 1: query catalog of WISE-measured main-belt asteroid diameters for high-fidelity asteroid diameters within a user-defined range (here: defined by max acceptable angular diameter). <br>\n",
    "Step 2: retrieve Horizons ephemerides for the asteroids found above within a user-defined date range, restrict to solar elongation within JWST's field of regard and |galactic latitude| > a user-defined value (reject asteroids in the Milky Way).<br>\n",
    "Step 3: estimate (reflected + thermal) flux using WISE best-fit parameters, compare against sensitivity.  Output which objects are doable at what wavelength.  <br>\n",
    "\n",
    "Caveat 1: not checking for ephemeris uncertainty at this point -- probably not an issue for these well-characterized objects, but would be straightforward given Horizons output. <br>\n",
    "Caveat 2: not checking for motion rates, either.  MBAs should be fine, but check should be added if NEAs or comets ever are of interest. <br>\n",
    "Caveat 3: after repeated runs, Horizons may block your URL for some time due to an excessive number of API calls.  Do we need to get whitelisted?  Is it a good idea to pre-calculate ephemerides rather than requesting them over and over again?\n",
    "Caveat 4: some asteroids have multiple diameters, measured at different epochs.  This script will only consider the first value in the list."
   ]
  },
  {
   "cell_type": "code",
   "execution_count": 1,
   "metadata": {},
   "outputs": [],
   "source": [
    "from __future__ import print_function\n",
    "import neatm\n",
    "import astropy.units as u\n",
    "from astropy.table import Table\n",
    "from astropy.io import ascii\n",
    "from scipy import interpolate\n",
    "from urllib.request import urlopen\n",
    "import numpy as np\n",
    "import os\n",
    "from astroquery.jplhorizons import Horizons"
   ]
  },
  {
   "cell_type": "markdown",
   "metadata": {
    "collapsed": true
   },
   "source": [
    "## Define global parameters"
   ]
  },
  {
   "cell_type": "code",
   "execution_count": 2,
   "metadata": {},
   "outputs": [],
   "source": [
    "maxAngDiam = 0.03 * u.arcsec  # Is that a good criterion for MIRI point sources?\n",
    "minAngDiam = maxAngDiam/1.5   # don't go very much smaller to keep high SNR\n",
    "minAngDiam = maxAngDiam/1.09     # debugging\n",
    "assumedDistance = 2*u.AU      # inner edge of main belt.  Further asteroids will appear smaller\n",
    "\n",
    "maxDiam = (assumedDistance * maxAngDiam.to(u.radian).value).to(u.km).value\n",
    "minDiam = (assumedDistance * minAngDiam.to(u.radian).value).to(u.km).value"
   ]
  },
  {
   "cell_type": "code",
   "execution_count": 3,
   "metadata": {},
   "outputs": [],
   "source": [
    "startDate = '2022-07-01'\n",
    "endDate   = '2022-07-11'\n",
    "center='@JWST'\n",
    "elongLimits = [85,135]"
   ]
  },
  {
   "cell_type": "code",
   "execution_count": 4,
   "metadata": {},
   "outputs": [],
   "source": [
    "minGlxLat = 5 # in degree -- reject asteroids smack in the Milky Way"
   ]
  },
  {
   "cell_type": "code",
   "execution_count": 5,
   "metadata": {},
   "outputs": [],
   "source": [
    "# fluxes to get SNR>300 in 40 groups * 4 dither positions, per dichroic at native spectral resolution\n",
    "# See ETC notebook 89119 (which needs some attention, still)\n",
    "\n",
    "minFlux = {}  \n",
    "minFlux[10*u.micron]=250*u.mJy \n",
    "minFlux[20*u.micron]=1000*u.mJy \n",
    "wavelengths = [key for key in minFlux]"
   ]
  },
  {
   "cell_type": "code",
   "execution_count": 6,
   "metadata": {},
   "outputs": [],
   "source": [
    "# epochs needed by astroquery.jplhorizons.Horizons\n",
    "epochs={}\n",
    "epochs['start']=startDate\n",
    "epochs['stop']=endDate\n",
    "epochs['step']='1d' # hard-wire: daily output"
   ]
  },
  {
   "cell_type": "code",
   "execution_count": 7,
   "metadata": {},
   "outputs": [],
   "source": [
    "wiseCatalogFilename = os.path.join('neowise_diameters_albedos_V2_0', 'data', 'neowise_mainbelt.csv')\n",
    "assert os.path.isfile( wiseCatalogFilename )\n",
    "wise = ascii.read( wiseCatalogFilename )"
   ]
  },
  {
   "cell_type": "code",
   "execution_count": 8,
   "metadata": {},
   "outputs": [],
   "source": [
    "wise.rename_column('col1', 'number')\n",
    "wise.rename_column('col4', 'H')\n",
    "wise.rename_column('col5', 'G')\n",
    "wise.rename_column('col11', 'fitCode') # require DVBI for best-quality fits\n",
    "wise.rename_column('col12', 'D')\n",
    "wise.rename_column('col13', 'sigmaD')\n",
    "wise.rename_column('col14', 'pV')\n",
    "wise.rename_column('col15', 'sigmaPV')\n",
    "wise.rename_column('col18', 'eta')\n",
    "wise.rename_column('col19', 'sigmaEta')"
   ]
  },
  {
   "cell_type": "code",
   "execution_count": 9,
   "metadata": {},
   "outputs": [],
   "source": [
    "idx = np.where( (wise['number']>0) & (wise['fitCode']=='DVBI') & (wise['D']<maxDiam) & (wise['D']>minDiam) )\n",
    "candidates=wise[idx]"
   ]
  },
  {
   "cell_type": "markdown",
   "metadata": {},
   "source": [
    "## Aux function"
   ]
  },
  {
   "cell_type": "code",
   "execution_count": 10,
   "metadata": {},
   "outputs": [],
   "source": [
    "sunFluxFile='Rieke2008.fluxSunVega.txt'\n",
    "assert os.path.isfile(sunFluxFile)\n",
    "# Modified after Lenka's \"Ref_Brightness.py\" as of 2018/03/20: https://github.com/lenkaaaa49/Serendipitous-asteroid-observation\n",
    "solar_flux_density=Table.read('Rieke2008.fluxSunVega.txt', guess=False,format='ascii.fixed_width',  delimiter=' ',\n",
    "                       header_start=None, data_start=14,\n",
    "                       col_starts=(0, 8, 17),\n",
    "                      col_ends=(7, 16, 26),names=('Wavelength[micron]','Flux density of the Sun[W/m2/nm]',\n",
    "                            'Flux density of Vega[W/m2/nm]'))\n",
    "lambdasSun=solar_flux_density['Wavelength[micron]'].data\n",
    "fluxSun = solar_flux_density['Flux density of the Sun[W/m2/nm]'].data\n",
    "s = interpolate.InterpolatedUnivariateSpline(lambdasSun, fluxSun)\n",
    "solarFluxes = np.array([(s(wav.to_value(u.micron))*u.Watt/u.meter**2/u.nm).to_value(u.mJy, equivalencies=u.spectral_density(wav)) for wav in wavelengths])*u.mJy\n",
    "\n",
    "vSun=-26.74\n",
    "\n",
    "def reflectedSunlight(v,relRefl=1.4): \n",
    "    # assume wavelengths defined globally....\n",
    "    return solarFluxes*10**(-(v-vSun)/2.5)*relRefl"
   ]
  },
  {
   "cell_type": "markdown",
   "metadata": {},
   "source": [
    "## Retrieve ephemerides, filter"
   ]
  },
  {
   "cell_type": "code",
   "execution_count": 11,
   "metadata": {},
   "outputs": [
    {
     "name": "stdout",
     "output_type": "stream",
     "text": [
      "60 , not in field of regard\n",
      "118\n",
      "155 , not in field of regard\n",
      "167 , not in field of regard\n",
      "208 , not in field of regard\n",
      "208 , not in field of regard\n",
      "242\n",
      "309\n",
      "383 , not in field of regard\n",
      "418 , not in field of regard\n",
      "493\n",
      "493\n",
      "497\n",
      "500 , not in field of regard\n",
      "500 , not in field of regard\n",
      "515\n",
      "519 , not in field of regard\n",
      "537 , not in field of regard\n",
      "542 , not in field of regard\n",
      "660\n",
      "661 , not in field of regard\n",
      "688 , not in field of regard\n",
      "692 , not in field of regard\n",
      "695\n",
      "701 , not in field of regard\n",
      "755 , not in field of regard\n",
      "766 , not in field of regard\n",
      "767\n",
      "829 , not in field of regard\n",
      "829 , not in field of regard\n",
      "830 , not in field of regard\n",
      "844 , not in field of regard\n",
      "882 , not in field of regard\n",
      "1008 , not in field of regard\n",
      "1017 , not in field of regard\n",
      "1024 , not in field of regard\n",
      "1092 , not in field of regard\n",
      "1096 , not in field of regard\n",
      "1128 , not in field of regard\n",
      "1194\n",
      "1200\n",
      "1284\n",
      "1285 , not in field of regard\n",
      "1337\n",
      "1354 , not in field of regard\n",
      "1369\n",
      "1484 , not in field of regard\n",
      "1542 , not in field of regard\n",
      "1564 , not in field of regard\n",
      "1599\n",
      "1669 , not in field of regard\n",
      "1678 , not in field of regard\n",
      "1838\n",
      "1841 , not in field of regard\n",
      "2025 , not in field of regard\n",
      "2120 , not in field of regard\n",
      "2208 , not in field of regard\n",
      "2235 , not in field of regard\n",
      "2291 , not in field of regard\n",
      "2307 , not in field of regard\n",
      "2326 , not in field of regard\n",
      "2356 , not in field of regard\n",
      "2376 , not in field of regard\n",
      "2378 , not in field of regard\n",
      "2826 , not in field of regard\n",
      "2829 , not in field of regard\n",
      "3036\n",
      "3578 , not in field of regard\n",
      "29943 , not in field of regard\n",
      "714 , not in field of regard\n",
      "936 , not in field of regard\n",
      "1776 , not in field of regard\n",
      "2145 , not in field of regard\n"
     ]
    }
   ],
   "source": [
    "fringeAsteroids={}\n",
    "for line in candidates:\n",
    "    # get ephemeris\n",
    "    hor=Horizons( id='%s'%line['number'], location=center, epochs=epochs )\n",
    "    try:\n",
    "        asteroid = hor.ephemerides(solar_elongation=elongLimits) \n",
    "    except ValueError:\n",
    "        print( line['number'], \", not in field of regard\")\n",
    "        continue\n",
    "    observable = np.where( (abs(asteroid['GlxLat'])>minGlxLat) )\n",
    "    if len(observable[0])>0:\n",
    "        print (line['number'])\n",
    "        fringeAsteroids[line['number']]=asteroid[observable]\n",
    "    else:\n",
    "        print ('.')"
   ]
  },
  {
   "cell_type": "code",
   "execution_count": 12,
   "metadata": {},
   "outputs": [
    {
     "name": "stdout",
     "output_type": "stream",
     "text": [
      "118\n",
      "242\n",
      "309\n",
      "493\n",
      "497\n",
      "515\n",
      "660\n",
      "695\n",
      "767\n",
      "1194\n",
      "1200\n",
      "1284\n",
      "1337\n",
      "1369\n",
      "1599\n",
      "1838\n",
      "3036\n"
     ]
    }
   ],
   "source": [
    "with open('fringeAsteroids.txt', 'w') as f:\n",
    "    for obj in fringeAsteroids:\n",
    "        eph = fringeAsteroids[obj]\n",
    "        print (obj)\n",
    "        f.write(str(obj)+ '\\n')\n",
    "        f.write('# H=%s\\n'%eph['H'][0])  ## This is H,G from Horizons, not necessarily the same as used by WISE\n",
    "        f.write('# G=%s\\n'%eph['G'][0])\n",
    "        for t, v, r, delta,alpha in zip(eph['datetime_jd'], eph['V'], eph['r'], eph['delta'], eph['alpha']):\n",
    "            f.write('%.1f, %.2f, %.5f, %.5f, %.2f\\n'%(t,v,r,delta,alpha))\n",
    "        f.write('\\n')"
   ]
  },
  {
   "cell_type": "markdown",
   "metadata": {
    "collapsed": true
   },
   "source": [
    "## Estimate fluxes, compare against sensitivity"
   ]
  },
  {
   "cell_type": "code",
   "execution_count": 13,
   "metadata": {},
   "outputs": [
    {
     "name": "stdout",
     "output_type": "stream",
     "text": [
      "During the selected epoch, asteroid number N is observable for M days with sufficient brightness:\n",
      "\n",
      "118\n",
      "10.0 micron 11\n",
      "20.0 micron 11\n",
      "\n",
      "242\n",
      "10.0 micron 8\n",
      "20.0 micron 8\n",
      "\n",
      "309\n",
      "10.0 micron 2\n",
      "20.0 micron 2\n",
      "\n",
      "493\n",
      "10.0 micron 0\n",
      "20.0 micron 0\n",
      "\n",
      "497\n",
      "10.0 micron 4\n",
      "20.0 micron 4\n",
      "\n",
      "515\n",
      "10.0 micron 0\n",
      "20.0 micron 0\n",
      "\n",
      "660\n",
      "10.0 micron 11\n",
      "20.0 micron 11\n",
      "\n",
      "695\n",
      "10.0 micron 11\n",
      "20.0 micron 11\n",
      "\n",
      "767\n",
      "10.0 micron 11\n",
      "20.0 micron 11\n",
      "\n",
      "1194\n",
      "10.0 micron 11\n",
      "20.0 micron 11\n",
      "\n",
      "1200\n",
      "10.0 micron 11\n",
      "20.0 micron 11\n",
      "\n",
      "1284\n",
      "10.0 micron 11\n",
      "20.0 micron 11\n",
      "\n",
      "1337\n",
      "10.0 micron 11\n",
      "20.0 micron 11\n",
      "\n",
      "1369\n",
      "10.0 micron 11\n",
      "20.0 micron 11\n",
      "\n",
      "1599\n",
      "10.0 micron 10\n",
      "20.0 micron 10\n",
      "\n",
      "1838\n",
      "10.0 micron 8\n",
      "20.0 micron 4\n",
      "\n",
      "3036\n",
      "10.0 micron 8\n",
      "20.0 micron 8\n",
      "\n"
     ]
    }
   ],
   "source": [
    "brightEnough={}\n",
    "print( \"During the selected epoch, asteroid number N is observable for M days with sufficient brightness:\")\n",
    "print( \"\" )\n",
    "for obj in fringeAsteroids.keys():\n",
    "    brightEnough[obj]={}\n",
    "    for wav in wavelengths:\n",
    "        brightEnough[obj][wav]=[] # tuples: (datetime,flux)\n",
    "    eph=fringeAsteroids[obj]\n",
    "    idx=np.where(candidates['number']==obj)\n",
    "    assert len(idx[0]) > 0\n",
    "    \n",
    "    h=candidates[idx]['H'][0]\n",
    "    g=candidates[idx]['G'][0]\n",
    "    eta=candidates[idx]['eta'][0]\n",
    "    pv=candidates[idx]['pV'][0]\n",
    "    for t, v, r, delta,alpha in zip(eph['datetime_str'], eph['V'], eph['r'], eph['delta'], eph['alpha']):\n",
    "        thermal=neatm.neatm(h,g, alpha*u.deg, r*u.AU, delta*u.AU, wavelengths, eta, pv, mJy=True)\n",
    "        thermal=np.array([x.to_value(u.mJy) for x in thermal])*u.mJy\n",
    "        reflected=reflectedSunlight(v)\n",
    "        total=reflected+thermal\n",
    "        for l,f in zip(wavelengths, total):\n",
    "            if f.to_value(u.mJy) > minFlux[l].to_value(u.mJy):\n",
    "                brightEnough[obj][l].append((t,f))\n",
    "    print (obj)\n",
    "    for wav in wavelengths:\n",
    "        print(wav, len(brightEnough[obj][wav]))\n",
    "    print()\n"
   ]
  },
  {
   "cell_type": "code",
   "execution_count": null,
   "metadata": {},
   "outputs": [],
   "source": []
  },
  {
   "cell_type": "code",
   "execution_count": null,
   "metadata": {},
   "outputs": [],
   "source": []
  },
  {
   "cell_type": "code",
   "execution_count": null,
   "metadata": {},
   "outputs": [],
   "source": []
  }
 ],
 "metadata": {
  "anaconda-cloud": {},
  "kernelspec": {
   "display_name": "Python [conda env:neatm] *",
   "language": "python",
   "name": "conda-env-neatm-py"
  },
  "language_info": {
   "codemirror_mode": {
    "name": "ipython",
    "version": 3
   },
   "file_extension": ".py",
   "mimetype": "text/x-python",
   "name": "python",
   "nbconvert_exporter": "python",
   "pygments_lexer": "ipython3",
   "version": "3.8.8"
  }
 },
 "nbformat": 4,
 "nbformat_minor": 1
}
