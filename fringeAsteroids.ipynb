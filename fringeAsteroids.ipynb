{
 "cells": [
  {
   "cell_type": "markdown",
   "metadata": {
    "collapsed": true
   },
   "source": [
    "Find large MBAs suitable for MRS fringe characterization.  For now: restrict to objects with numbers between 200 and 800 (chosen arbitrarily).  May contain, as false positives, near-Earth asteroids that happen to be in the main belt at the time. <br />\n",
    "This notebook modified after 'centaurs2019.ipynb' used for GTO planning."
   ]
  },
  {
   "cell_type": "markdown",
   "metadata": {},
   "source": [
    "M.Mueller@astro.rug.nl, 2021/09/27"
   ]
  },
  {
   "cell_type": "markdown",
   "metadata": {},
   "source": [
    "Find large MBAs observable with JWST during early routine science. <br />\n",
    "Step 1: get ephemerides for objects 200--800, store objects that are in the JWST field of regard for some time.  Filter for heliocentric distance (must be within asteroid belt). <br />\n",
    "Step 2: estimate (reflected + thermal) flux, compare against sensitivity.  Output which objects are doable at what wavelength.  <br />\n",
    "<br />\n",
    "Caveat 1: not checking for ephemeris uncertainty at this point -- probably not an issue for these well-characterized objects. <br />\n",
    "Caveat 2: after repeated runs, Horizons may block your URL for some time due to an excessive number of API calls.  Do we need to get whitelisted?  Is it a good idea to pre-calculate ephemerides rather than requesting them over and over again?"
   ]
  },
  {
   "cell_type": "code",
   "execution_count": 1,
   "metadata": {},
   "outputs": [],
   "source": [
    "from __future__ import print_function\n",
    "import neatm\n",
    "import astropy.units as u\n",
    "from astropy.table import Table\n",
    "from scipy import interpolate\n",
    "from urllib.request import urlopen\n",
    "import numpy as np\n",
    "import os\n",
    "from astroquery.jplhorizons import Horizons"
   ]
  },
  {
   "cell_type": "markdown",
   "metadata": {
    "collapsed": true
   },
   "source": [
    "## Define global parameters"
   ]
  },
  {
   "cell_type": "code",
   "execution_count": 2,
   "metadata": {},
   "outputs": [],
   "source": [
    "rMin=2 # in AU\n",
    "rMax = 4.5 # \n",
    "minGlxLat = 5 # in degree  ### not implemented for now\n",
    "minNumber=300 # the very brightest asteroids might saturate\n",
    "maxNumber=1000\n",
    "maxNumber=350 # for demo purposes; shorter run-time"
   ]
  },
  {
   "cell_type": "code",
   "execution_count": 3,
   "metadata": {},
   "outputs": [],
   "source": [
    "startDate = '2022-07-01'\n",
    "endDate   = '2022-07-11'\n",
    "center='@JWST'\n",
    "elongLimits = [85,135]"
   ]
  },
  {
   "cell_type": "code",
   "execution_count": 4,
   "metadata": {},
   "outputs": [],
   "source": [
    "eta=0.8\n",
    "pv=0.2 # Somewhat conservative.  Good assumption for S types, conservative for C types, which are the most abundant types"
   ]
  },
  {
   "cell_type": "code",
   "execution_count": 5,
   "metadata": {},
   "outputs": [],
   "source": [
    "# fluxes to get SNR~1,000 in ~1,000s on-source time per dichroic at native spectral resolution\n",
    "# See ETC notebook 89119 (which needs some attention, still)\n",
    "\n",
    "minFlux = {}  \n",
    "## The following fluxes give SNR = 300 in ~1.000s on-source time (per dichroic) at native spectral resolution.\n",
    "## Taken from ETC: 2 dithers times 2 exposures (to mimic 4-point dither) times 100 FAST frames, 1,110 sec; high bg\n",
    "minFlux[10*u.micron]=50*u.mJy \n",
    "minFlux[20*u.micron]=250*u.mJy \n",
    "wavelengths = [key for key in minFlux]"
   ]
  },
  {
   "cell_type": "code",
   "execution_count": 6,
   "metadata": {},
   "outputs": [],
   "source": [
    "# epochs needed by astroquery.jplhorizons.Horizons\n",
    "epochs={}\n",
    "epochs['start']=startDate\n",
    "epochs['stop']=endDate\n",
    "epochs['step']='1d' # hard-wire: daily output"
   ]
  },
  {
   "cell_type": "markdown",
   "metadata": {},
   "source": [
    "## Aux function"
   ]
  },
  {
   "cell_type": "code",
   "execution_count": 7,
   "metadata": {},
   "outputs": [],
   "source": [
    "sunFluxFile='Rieke2008.fluxSunVega.txt'\n",
    "assert os.path.isfile(sunFluxFile)\n",
    "# Modified after Lenka's \"Ref_Brightness.py\" as of 2018/03/20: https://github.com/lenkaaaa49/Serendipitous-asteroid-observation\n",
    "solar_flux_density=Table.read('Rieke2008.fluxSunVega.txt', guess=False,format='ascii.fixed_width',  delimiter=' ',\n",
    "                       header_start=None, data_start=14,\n",
    "                       col_starts=(0, 8, 17),\n",
    "                      col_ends=(7, 16, 26),names=('Wavelength[micron]','Flux density of the Sun[W/m2/nm]',\n",
    "                            'Flux density of Vega[W/m2/nm]'))\n",
    "lambdasSun=solar_flux_density['Wavelength[micron]'].data\n",
    "fluxSun = solar_flux_density['Flux density of the Sun[W/m2/nm]'].data\n",
    "s = interpolate.InterpolatedUnivariateSpline(lambdasSun, fluxSun)\n",
    "solarFluxes = np.array([(s(wav.to_value(u.micron))*u.Watt/u.meter**2/u.nm).to_value(u.mJy, equivalencies=u.spectral_density(wav)) for wav in wavelengths])*u.mJy\n",
    "\n",
    "vSun=-26.74\n",
    "\n",
    "def reflectedSunlight(v,relRefl=1.4): \n",
    "    # assume wavelengths defined globally....\n",
    "    return solarFluxes*10**(-(v-vSun)/2.5)*relRefl"
   ]
  },
  {
   "cell_type": "markdown",
   "metadata": {},
   "source": [
    "## Retrieve ephemerides, filter"
   ]
  },
  {
   "cell_type": "code",
   "execution_count": 8,
   "metadata": {},
   "outputs": [
    {
     "name": "stdout",
     "output_type": "stream",
     "text": [
      "300\n",
      "301 , not in field of regard\n",
      "302 , not in field of regard\n",
      "303 , not in field of regard\n",
      "304\n",
      "305\n",
      "306\n",
      "307 , not in field of regard\n",
      "308 , not in field of regard\n",
      "309\n",
      "310 , not in field of regard\n",
      "311 , not in field of regard\n",
      "312 , not in field of regard\n",
      "313 , not in field of regard\n",
      "314 , not in field of regard\n",
      ".\n",
      "316 , not in field of regard\n",
      "317 , not in field of regard\n",
      "318 , not in field of regard\n",
      "319\n",
      "320 , not in field of regard\n",
      "321 , not in field of regard\n",
      "322 , not in field of regard\n",
      "323\n",
      "324 , not in field of regard\n",
      "325 , not in field of regard\n",
      "326 , not in field of regard\n",
      "327\n",
      "328 , not in field of regard\n",
      "329\n",
      "330 , not in field of regard\n",
      "331 , not in field of regard\n",
      "332\n",
      "333 , not in field of regard\n",
      "334 , not in field of regard\n",
      "335 , not in field of regard\n",
      "336 , not in field of regard\n",
      "337 , not in field of regard\n",
      "338 , not in field of regard\n",
      "339 , not in field of regard\n",
      "340\n",
      ".\n",
      "342\n",
      "343 , not in field of regard\n",
      "344 , not in field of regard\n",
      "345\n",
      "346 , not in field of regard\n",
      "347\n",
      "348 , not in field of regard\n",
      "349 , not in field of regard\n",
      "350 , not in field of regard\n"
     ]
    }
   ],
   "source": [
    "fringeAsteroids={}\n",
    "for i in range(minNumber,maxNumber+1):\n",
    "    # get ephemeris\n",
    "    hor=Horizons( id='%s'%i, location=center, epochs=epochs )\n",
    "    try:\n",
    "        asteroid = hor.ephemerides(solar_elongation=elongLimits) \n",
    "    except ValueError:\n",
    "        print( i, \", not in field of regard\")\n",
    "        continue\n",
    "        \n",
    "    observable = np.where( (asteroid['r']<rMax) & (asteroid['r']>rMin) )\n",
    "    if len(observable[0])>0:\n",
    "        print (i)\n",
    "        fringeAsteroids[i]=asteroid[observable]\n",
    "    else:\n",
    "        print ('.')"
   ]
  },
  {
   "cell_type": "code",
   "execution_count": 9,
   "metadata": {},
   "outputs": [
    {
     "name": "stdout",
     "output_type": "stream",
     "text": [
      "300\n",
      "304\n",
      "305\n",
      "306\n",
      "309\n",
      "319\n",
      "323\n",
      "327\n",
      "329\n",
      "332\n",
      "340\n",
      "342\n",
      "345\n",
      "347\n"
     ]
    }
   ],
   "source": [
    "with open('fringeAsteroids.txt', 'w') as f:\n",
    "    for obj in fringeAsteroids:\n",
    "        eph = fringeAsteroids[obj]\n",
    "        print (obj)\n",
    "        f.write(str(obj)+ '\\n')\n",
    "        f.write('# H=%s\\n'%eph['H'][0])\n",
    "        f.write('# G=%s\\n'%eph['G'][0])\n",
    "        for t, v, r, delta,alpha in zip(eph['datetime_jd'], eph['V'], eph['r'], eph['delta'], eph['alpha']):\n",
    "            f.write('%.1f, %.2f, %.5f, %.5f, %.2f\\n'%(t,v,r,delta,alpha))\n",
    "        f.write('\\n')"
   ]
  },
  {
   "cell_type": "markdown",
   "metadata": {
    "collapsed": true
   },
   "source": [
    "## Estimate fluxes, compare against sensitivity"
   ]
  },
  {
   "cell_type": "code",
   "execution_count": 10,
   "metadata": {},
   "outputs": [
    {
     "name": "stdout",
     "output_type": "stream",
     "text": [
      "During the selected epoch, asteroid number N is observable for M days with sufficient brightness:\n",
      "\n",
      "300\n",
      "10.0 micron 11\n",
      "20.0 micron 11\n",
      "\n",
      "304\n",
      "10.0 micron 11\n",
      "20.0 micron 11\n",
      "\n",
      "305\n",
      "10.0 micron 5\n",
      "20.0 micron 5\n",
      "\n",
      "306\n",
      "10.0 micron 11\n",
      "20.0 micron 11\n",
      "\n",
      "309\n",
      "10.0 micron 2\n",
      "20.0 micron 2\n",
      "\n",
      "319\n",
      "10.0 micron 11\n",
      "20.0 micron 11\n",
      "\n",
      "323\n",
      "10.0 micron 11\n",
      "20.0 micron 11\n",
      "\n",
      "327\n",
      "10.0 micron 11\n",
      "20.0 micron 11\n",
      "\n",
      "329\n",
      "10.0 micron 11\n",
      "20.0 micron 11\n",
      "\n",
      "332\n",
      "10.0 micron 11\n",
      "20.0 micron 11\n",
      "\n",
      "340\n",
      "10.0 micron 8\n",
      "20.0 micron 8\n",
      "\n",
      "342\n",
      "10.0 micron 11\n",
      "20.0 micron 11\n",
      "\n",
      "345\n",
      "10.0 micron 8\n",
      "20.0 micron 8\n",
      "\n",
      "347\n",
      "10.0 micron 11\n",
      "20.0 micron 11\n",
      "\n"
     ]
    }
   ],
   "source": [
    "brightEnough={}\n",
    "print( \"During the selected epoch, asteroid number N is observable for M days with sufficient brightness:\")\n",
    "print( \"\" )\n",
    "for obj in fringeAsteroids.keys():\n",
    "    brightEnough[obj]={}\n",
    "    for wav in wavelengths:\n",
    "        brightEnough[obj][wav]=[] # tuples: (datetime,flux)\n",
    "    eph=fringeAsteroids[obj]\n",
    "    h=eph['H'][0]\n",
    "    g=eph['G'][0]\n",
    "    for t, v, r, delta,alpha in zip(eph['datetime_str'], eph['V'], eph['r'], eph['delta'], eph['alpha']):\n",
    "        thermal=neatm.neatm(h,g, alpha*u.deg, r*u.AU, delta*u.AU, wavelengths, eta, pv, mJy=True)\n",
    "        thermal=np.array([x.to_value(u.mJy) for x in thermal])*u.mJy\n",
    "        reflected=reflectedSunlight(v)\n",
    "        total=reflected+thermal\n",
    "        for l,f in zip(wavelengths, total):\n",
    "            if f.to_value(u.mJy) > minFlux[l].to_value(u.mJy):\n",
    "                brightEnough[obj][l].append((t,f))\n",
    "    print (obj)\n",
    "    for wav in wavelengths:\n",
    "        print(wav, len(brightEnough[obj][wav]))\n",
    "    print()\n"
   ]
  },
  {
   "cell_type": "code",
   "execution_count": null,
   "metadata": {},
   "outputs": [],
   "source": []
  },
  {
   "cell_type": "code",
   "execution_count": null,
   "metadata": {},
   "outputs": [],
   "source": []
  },
  {
   "cell_type": "code",
   "execution_count": null,
   "metadata": {},
   "outputs": [],
   "source": []
  },
  {
   "cell_type": "code",
   "execution_count": null,
   "metadata": {},
   "outputs": [],
   "source": []
  },
  {
   "cell_type": "code",
   "execution_count": null,
   "metadata": {},
   "outputs": [],
   "source": []
  },
  {
   "cell_type": "code",
   "execution_count": null,
   "metadata": {},
   "outputs": [],
   "source": []
  }
 ],
 "metadata": {
  "anaconda-cloud": {},
  "kernelspec": {
   "display_name": "Python [conda env:neatm] *",
   "language": "python",
   "name": "conda-env-neatm-py"
  },
  "language_info": {
   "codemirror_mode": {
    "name": "ipython",
    "version": 3
   },
   "file_extension": ".py",
   "mimetype": "text/x-python",
   "name": "python",
   "nbconvert_exporter": "python",
   "pygments_lexer": "ipython3",
   "version": "3.8.8"
  }
 },
 "nbformat": 4,
 "nbformat_minor": 1
}
